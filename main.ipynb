{
 "cells": [
  {
   "cell_type": "code",
   "execution_count": null,
   "id": "795db8d6",
   "metadata": {},
   "outputs": [],
   "source": [
    "import numpy as np\n",
    "import simulator\n",
    "import estimator"
   ]
  },
  {
   "cell_type": "code",
   "execution_count": 57,
   "id": "c7e5f387",
   "metadata": {},
   "outputs": [
    {
     "name": "stderr",
     "output_type": "stream",
     "text": [
      "/Users/ardentem/Desktop/GNAR/estimator.py:113: RuntimeWarning: invalid value encountered in divide\n",
      "  beta_net[:,1+l] = np.mean(beta_, axis=0) / np.sum(c == l, axis=0)\n",
      "100%|██████████| 100/100 [00:03<00:00, 26.68it/s]"
     ]
    },
    {
     "name": "stdout",
     "output_type": "stream",
     "text": [
      "Epoch 0: 0 nodes updated\n",
      "Convergence reached\n",
      "[[0.23457801 0.22121888 0.04764032]\n",
      " [0.33318105 0.02456799 0.37209593]\n",
      " [0.04396837 0.04075084 0.276216  ]]\n",
      "[0.53957165 0.7045408  0.42471186]\n",
      "[[ 0.27675469  0.37250482  0.04731419]\n",
      " [ 0.04031485  0.02641971  0.22076745]\n",
      " [ 0.04350052  0.33138305  0.23508159]\n",
      " [ 0.42439437  0.70449122  0.53957243]\n",
      " [-0.37458463  0.7889177  -0.28970793]\n",
      " [-0.49728413 -0.64000801  0.31258883]\n",
      " [ 0.24437562 -0.10160471  0.3148274 ]\n",
      " [ 0.02428095 -0.07410229 -0.07048587]]\n"
     ]
    },
    {
     "name": "stderr",
     "output_type": "stream",
     "text": [
      "\n"
     ]
    }
   ],
   "source": [
    "sim = simulator.GNAR_simulator(N=100, T=300, G=3, network_time_varying=True, CV_time_varying=True)\n",
    "beta = np.array([[0.15,0.2,-0.1],[0.1,0.3,-0.2],[0.15,0.1,0.3]]).T\n",
    "v = np.array([0.2,0.4,0.6])\n",
    "#beta, v, gamma, group = sim.generate_para(beta=beta, v=v)\n",
    "beta, v, gamma, group = sim.generate_para()\n",
    "Y, CV, network = sim.generate_data()\n",
    "est = estimator.GNAR_estimator(Y, CV, network,G=3)\n",
    "group_est_0 = est.k_means_clustering(method='networkeffect',time_varying=True)\n",
    "group_est, beta_est = est.update_all_para()\n",
    "print(beta)\n",
    "print(v)\n",
    "print(beta_est)"
   ]
  }
 ],
 "metadata": {
  "kernelspec": {
   "display_name": "base",
   "language": "python",
   "name": "python3"
  },
  "language_info": {
   "codemirror_mode": {
    "name": "ipython",
    "version": 3
   },
   "file_extension": ".py",
   "mimetype": "text/x-python",
   "name": "python",
   "nbconvert_exporter": "python",
   "pygments_lexer": "ipython3",
   "version": "3.13.5"
  }
 },
 "nbformat": 4,
 "nbformat_minor": 5
}
