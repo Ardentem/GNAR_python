{
 "cells": [
  {
   "cell_type": "code",
   "execution_count": 1,
   "id": "795db8d6",
   "metadata": {},
   "outputs": [],
   "source": [
    "import numpy as np\n",
    "import simulator\n",
    "import estimator"
   ]
  },
  {
   "cell_type": "code",
   "execution_count": 60,
   "id": "d7f95452",
   "metadata": {},
   "outputs": [
    {
     "data": {
      "text/plain": [
       "<module 'estimator' from '/Users/ardentem/Desktop/GNAR_python/estimator.py'>"
      ]
     },
     "execution_count": 60,
     "metadata": {},
     "output_type": "execute_result"
    }
   ],
   "source": [
    "import importlib\n",
    "importlib.reload(simulator)\n",
    "importlib.reload(estimator)"
   ]
  },
  {
   "cell_type": "code",
   "execution_count": 61,
   "id": "c7e5f387",
   "metadata": {},
   "outputs": [
    {
     "name": "stderr",
     "output_type": "stream",
     "text": [
      "/Users/ardentem/Desktop/GNAR_python/estimator.py:115: RuntimeWarning: invalid value encountered in divide\n",
      "  beta_net[:,1+l] = np.mean(beta_, axis=0) / np.sum(c == l, axis=0)\n",
      "100%|██████████| 100/100 [00:03<00:00, 26.66it/s]"
     ]
    },
    {
     "name": "stdout",
     "output_type": "stream",
     "text": [
      "Epoch 0: 0 nodes updated\n",
      "Convergence reached\n"
     ]
    },
    {
     "name": "stderr",
     "output_type": "stream",
     "text": [
      "\n"
     ]
    }
   ],
   "source": [
    "sim = simulator.GNAR_simulator(N=100, T=300, G=3, network_time_varying=True, CV_time_varying=True)\n",
    "beta = np.array([[0.15,0.2,-0.1],[0.1,0.3,-0.2],[0.15,0.1,0.3]]).T\n",
    "v = np.array([0.2,0.4,0.6])\n",
    "#beta, v, gamma, group = sim.generate_para(beta=beta, v=v)\n",
    "beta, v, gamma, group = sim.generate_para()\n",
    "Y, CV, network = sim.generate_data()\n",
    "est = estimator.GNAR_estimator(Y, CV, network,G=3)\n",
    "res = est.fit(method='networkeffect', time_varying=True)"
   ]
  },
  {
   "cell_type": "code",
   "execution_count": 62,
   "id": "638fd84d",
   "metadata": {},
   "outputs": [
    {
     "name": "stdout",
     "output_type": "stream",
     "text": [
      "\u001b[1;31mGNAR Model Results:\u001b[0m\n",
      "N of Groups: 3    , Nodes: 100  , Time Periods: 300  , Covariates: 4    \n",
      "=========================== Group 0 =============================\n",
      "\u001b[1;34mNodes_n\u001b[0m: 30   , \u001b[1;34mObs_n\u001b[0m: 8970 , \u001b[1;34mR2\u001b[0m: 0.9995    , \u001b[1;34mR2_adj\u001b[0m: 0.9995    \n",
      "\u001b[1;32mVar            Coef           Robust SE      t-stat         p-value        \u001b[0m\n",
      "beta_g0g0      0.2768         0.0011         247.2660       0.0000         \n",
      "beta_g0g1      0.0403         0.0015         27.7660        0.0000         \n",
      "beta_g0g2      0.0435         0.0014         30.6629        0.0000         \n",
      "v_g0           0.4244         0.0002         1847.5417      0.0000         \n",
      "gamma_g0_0     0.4244         0.0002         1847.5417      0.0000         \n",
      "gamma_g0_1     -0.3746        0.0002         -2072.1047     0.0000         \n",
      "gamma_g0_2     -0.4973        0.0002         -2799.6049     0.0000         \n",
      "gamma_g0_3     0.2444         0.0002         1352.0689      0.0000         \n",
      "=========================== Group 1 =============================\n",
      "\u001b[1;34mNodes_n\u001b[0m: 30   , \u001b[1;34mObs_n\u001b[0m: 8970 , \u001b[1;34mR2\u001b[0m: 0.9999    , \u001b[1;34mR2_adj\u001b[0m: 0.9999    \n",
      "\u001b[1;32mVar            Coef           Robust SE      t-stat         p-value        \u001b[0m\n",
      "beta_g1g0      0.3725         0.0010         368.7798       0.0000         \n",
      "beta_g1g1      0.0264         0.0015         17.5388        0.0000         \n",
      "beta_g1g2      0.3314         0.0014         231.2104       0.0000         \n",
      "v_g1           0.7045         0.0001         5560.6563      0.0000         \n",
      "gamma_g1_0     0.7045         0.0001         5560.6563      0.0000         \n",
      "gamma_g1_1     0.7889         0.0002         4400.9578      0.0000         \n",
      "gamma_g1_2     -0.6400        0.0002         -3502.4499     0.0000         \n",
      "gamma_g1_3     -0.1016        0.0002         -558.0690      0.0000         \n",
      "=========================== Group 2 =============================\n",
      "\u001b[1;34mNodes_n\u001b[0m: 40   , \u001b[1;34mObs_n\u001b[0m: 11960, \u001b[1;34mR2\u001b[0m: 0.9993    , \u001b[1;34mR2_adj\u001b[0m: 0.9993    \n",
      "\u001b[1;32mVar            Coef           Robust SE      t-stat         p-value        \u001b[0m\n",
      "beta_g2g0      0.0473         0.0009         52.7311        0.0000         \n",
      "beta_g2g1      0.2208         0.0012         179.7955       0.0000         \n",
      "beta_g2g2      0.2351         0.0013         181.3379       0.0000         \n",
      "v_g2           0.5396         0.0002         2229.5760      0.0000         \n",
      "gamma_g2_0     0.5396         0.0002         2229.5760      0.0000         \n",
      "gamma_g2_1     -0.2897        0.0002         -1835.5231     0.0000         \n",
      "gamma_g2_2     0.3126         0.0002         2009.9064      0.0000         \n",
      "gamma_g2_3     0.3148         0.0002         2004.0635      0.0000         \n"
     ]
    }
   ],
   "source": [
    "res.summary()"
   ]
  },
  {
   "cell_type": "code",
   "execution_count": null,
   "id": "ac402b97",
   "metadata": {},
   "outputs": [],
   "source": []
  },
  {
   "cell_type": "code",
   "execution_count": null,
   "id": "163f5250",
   "metadata": {},
   "outputs": [],
   "source": []
  }
 ],
 "metadata": {
  "kernelspec": {
   "display_name": "base",
   "language": "python",
   "name": "python3"
  },
  "language_info": {
   "codemirror_mode": {
    "name": "ipython",
    "version": 3
   },
   "file_extension": ".py",
   "mimetype": "text/x-python",
   "name": "python",
   "nbconvert_exporter": "python",
   "pygments_lexer": "ipython3",
   "version": "3.13.5"
  }
 },
 "nbformat": 4,
 "nbformat_minor": 5
}
