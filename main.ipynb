{
 "cells": [
  {
   "cell_type": "markdown",
   "id": "36906c85",
   "metadata": {},
   "source": [
    "## **A brief tutorial on the Code**"
   ]
  },
  {
   "cell_type": "code",
   "execution_count": 1,
   "id": "23921586",
   "metadata": {},
   "outputs": [],
   "source": [
    "# Example usage of GNAR simulator and estimator\n",
    "import numpy as np\n",
    "import simulator\n",
    "import estimator\n",
    "\n",
    "import warnings\n",
    "warnings.filterwarnings(\"ignore\")"
   ]
  },
  {
   "cell_type": "markdown",
   "id": "fc70ff8d",
   "metadata": {},
   "source": [
    "### *Section 1: GNAR Model*\n",
    "\n",
    "$$\n",
    "Y_{it} = \\sum_{j=1, j\\neq i}^N \\beta_{g_i g_j} w_{ij} Y_{j,(t-1)} + \\nu_{g_i} Y_{i,(t-1)} + z_i^\\top \\zeta_{g_i} + \\varepsilon_{it}\n",
    "$$"
   ]
  },
  {
   "cell_type": "markdown",
   "id": "7f531818",
   "metadata": {},
   "source": [
    "- <font color=\"red\">1.1 Initialize the GNAR simulator with parameters</font>  "
   ]
  },
  {
   "cell_type": "code",
   "execution_count": 2,
   "id": "204e1062",
   "metadata": {},
   "outputs": [],
   "source": [
    "# Initialize the GNAR simulator\n",
    "sim = simulator.GNAR_simulator()"
   ]
  },
  {
   "cell_type": "code",
   "execution_count": 3,
   "id": "7621a482",
   "metadata": {},
   "outputs": [],
   "source": [
    "# You can also set parameters for the simulator, here are the defaults:\n",
    "sim = simulator.GNAR_simulator(N=100, T=300, G=3, seed=42,\n",
    "                               CV_len=4, omit_eye=True, \n",
    "                               network_dummy=True, sigma=0.05)\n",
    "#N = 100: Number of nodes.   \n",
    "#T = 300: Number of time points    \n",
    "#G = 3: Number of groups    \n",
    "#seed = 42: Random seed for reproducibility       \n",
    "#CV_len = 4: Length of the CV vector   \n",
    "#omit_eye = True: Whether to omit the diagonal elements of the network  \n",
    "#network_dummy = True: Whether to use a dummy network (0 or 1)\n",
    "#sigma = 0.05: Standard deviation of the noise"
   ]
  },
  {
   "cell_type": "code",
   "execution_count": 4,
   "id": "a12e5df1",
   "metadata": {},
   "outputs": [
    {
     "name": "stdout",
     "output_type": "stream",
     "text": [
      "Network generated successfully.\n",
      "CV generated successfully.\n",
      "All Parameters generated successfully.\n",
      "Generated random parameters:\n",
      "Beta: [[0.1359409  0.0477824  0.45863716]\n",
      " [0.21577612 0.24207947 0.51297991]\n",
      " [0.21645018 0.03355324 0.18810224]]\n",
      "V: [0.72903627 0.63197702 0.41844354]\n",
      "Gamma: [[ 0.94419199  0.23511463  0.96283144 -0.32448803]\n",
      " [ 0.4060634  -0.55479273 -0.47759966  0.02380424]\n",
      " [-0.36076375 -0.66475687 -0.4742386  -0.92850321]]\n",
      "Group: [2 1 0 2 2 1 2 1 1 2 2 1 2 1 2 1 2 2 0 0 1 0 0 1 2 2 1 0 2 0 1 0 1 1 2 1 2\n",
      " 1 2 0 1 0 1 1 1 2 2 0 0 1 0 1 1 1 2 0 2 1 1 2 0 2 2 0 1 0 0 2 1 1 1 2 2 0\n",
      " 0 2 0 2 0 1 2 0 2 2 0 0 2 2 0 1 1 1 2 1 2 0 1 0 1 1]\n"
     ]
    }
   ],
   "source": [
    "# Next, set parameters for the GNAR model (beta, v, gamma)\n",
    "beta, v, gamma, group = sim.generate_para()\n",
    "print(\"Generated random parameters:\")\n",
    "print(\"Beta:\", beta)\n",
    "print(\"V:\", v)\n",
    "print(\"Gamma:\", gamma)\n",
    "print(\"Group:\", group)"
   ]
  },
  {
   "cell_type": "code",
   "execution_count": 5,
   "id": "b15b8f19",
   "metadata": {},
   "outputs": [
    {
     "name": "stdout",
     "output_type": "stream",
     "text": [
      "Network generated successfully.\n",
      "CV generated successfully.\n",
      "All Parameters generated successfully.\n",
      "Generated random parameters:\n",
      "Beta: [[ 0.15  0.1   0.15]\n",
      " [ 0.2   0.3   0.1 ]\n",
      " [-0.1  -0.2   0.3 ]]\n",
      "V: [0.2 0.4 0.6]\n",
      "Gamma: [[ 0.17596417  0.88394413 -0.65368817 -0.96052566]\n",
      " [-0.15507373  0.49683032  0.95020129 -0.89744186]\n",
      " [ 0.57192377 -0.26265185 -0.69253701 -0.61538969]]\n",
      "Group: [0 1 1 0 2 1 1 2 2 2 2 1 1 2 2 2 1 0 1 2 0 0 2 0 0 2 1 0 2 1 1 0 2 1 1 1 1\n",
      " 2 2 1 1 0 2 2 1 0 2 0 1 2 0 2 1 2 1 0 0 0 1 0 1 0 1 2 0 2 1 1 0 2 1 0 2 0\n",
      " 2 1 1 1 2 2 0 1 2 1 2 2 2 0 1 2 2 0 1 2 1 0 0 1 1 1]\n"
     ]
    }
   ],
   "source": [
    "# You can also set specific parameters for the GNAR model\n",
    "beta = np.array([[0.15,0.2,-0.1],[0.1,0.3,-0.2],[0.15,0.1,0.3]]).T\n",
    "v = np.array([0.2,0.4,0.6])\n",
    "beta, v, gamma, group = sim.generate_para(beta=beta, v=v)\n",
    "# Make sure beta and v must be given together and compatible with the number of groups (G)\n",
    "# Beta and v must satisfy the conditions for estimation consistency\n",
    "print(\"Generated random parameters:\")\n",
    "print(\"Beta:\", beta)\n",
    "print(\"V:\", v)\n",
    "print(\"Gamma:\", gamma)\n",
    "print(\"Group:\", group)"
   ]
  },
  {
   "cell_type": "code",
   "execution_count": 6,
   "id": "7bc9f5f9",
   "metadata": {},
   "outputs": [
    {
     "name": "stdout",
     "output_type": "stream",
     "text": [
      "Coefficient constructed successfully.\n"
     ]
    },
    {
     "name": "stderr",
     "output_type": "stream",
     "text": [
      "100%|██████████| 299/299 [00:00<00:00, 53105.95it/s]"
     ]
    },
    {
     "name": "stdout",
     "output_type": "stream",
     "text": [
      "Generated data shapes:\n",
      "Y shape: (100, 300)\n",
      "CV shape: (100, 4, 300)\n",
      "Network shape: (100, 100, 300)\n"
     ]
    },
    {
     "name": "stderr",
     "output_type": "stream",
     "text": [
      "\n"
     ]
    }
   ],
   "source": [
    "# Generate the data using the simulator\n",
    "Y, CV, network = sim.generate_data()\n",
    "print(\"Generated data shapes:\")\n",
    "print(\"Y shape:\", Y.shape)\n",
    "print(\"CV shape:\", CV.shape)\n",
    "print(\"Network shape:\", network.shape)"
   ]
  },
  {
   "cell_type": "markdown",
   "id": "23b4295e",
   "metadata": {},
   "source": [
    "- <font color=\"red\">1.2 Estimate the GNAR model using the generated data</font>"
   ]
  },
  {
   "cell_type": "code",
   "execution_count": 7,
   "id": "163f5250",
   "metadata": {},
   "outputs": [],
   "source": [
    "# Initialize the GNAR estimator with the generated data\n",
    "est = estimator.GNAR_estimator(Y, CV, network, G=3, seed=42)\n",
    "# The default seed is 42"
   ]
  },
  {
   "cell_type": "code",
   "execution_count": 8,
   "id": "1f9f7b1c",
   "metadata": {},
   "outputs": [
    {
     "name": "stderr",
     "output_type": "stream",
     "text": [
      "100%|██████████| 100/100 [00:01<00:00, 93.21it/s]\n"
     ]
    },
    {
     "name": "stdout",
     "output_type": "stream",
     "text": [
      "Epoch 0: 17 nodes updated\n"
     ]
    },
    {
     "name": "stderr",
     "output_type": "stream",
     "text": [
      "100%|██████████| 100/100 [00:01<00:00, 91.13it/s]\n"
     ]
    },
    {
     "name": "stdout",
     "output_type": "stream",
     "text": [
      "Epoch 1: 10 nodes updated\n"
     ]
    },
    {
     "name": "stderr",
     "output_type": "stream",
     "text": [
      "100%|██████████| 100/100 [00:01<00:00, 98.53it/s]\n"
     ]
    },
    {
     "name": "stdout",
     "output_type": "stream",
     "text": [
      "Epoch 2: 8 nodes updated\n"
     ]
    },
    {
     "name": "stderr",
     "output_type": "stream",
     "text": [
      "100%|██████████| 100/100 [00:01<00:00, 96.10it/s]\n"
     ]
    },
    {
     "name": "stdout",
     "output_type": "stream",
     "text": [
      "Epoch 3: 8 nodes updated\n"
     ]
    },
    {
     "name": "stderr",
     "output_type": "stream",
     "text": [
      "100%|██████████| 100/100 [00:00<00:00, 101.56it/s]\n"
     ]
    },
    {
     "name": "stdout",
     "output_type": "stream",
     "text": [
      "Epoch 4: 8 nodes updated\n"
     ]
    },
    {
     "name": "stderr",
     "output_type": "stream",
     "text": [
      "100%|██████████| 100/100 [00:00<00:00, 104.32it/s]\n"
     ]
    },
    {
     "name": "stdout",
     "output_type": "stream",
     "text": [
      "Epoch 5: 3 nodes updated\n"
     ]
    },
    {
     "name": "stderr",
     "output_type": "stream",
     "text": [
      "100%|██████████| 100/100 [00:00<00:00, 104.05it/s]\n"
     ]
    },
    {
     "name": "stdout",
     "output_type": "stream",
     "text": [
      "Epoch 6: 1 nodes updated\n"
     ]
    },
    {
     "name": "stderr",
     "output_type": "stream",
     "text": [
      "100%|██████████| 100/100 [00:01<00:00, 98.91it/s]\n"
     ]
    },
    {
     "name": "stdout",
     "output_type": "stream",
     "text": [
      "Epoch 7: 1 nodes updated\n"
     ]
    },
    {
     "name": "stderr",
     "output_type": "stream",
     "text": [
      "100%|██████████| 100/100 [00:00<00:00, 104.96it/s]"
     ]
    },
    {
     "name": "stdout",
     "output_type": "stream",
     "text": [
      "Epoch 8: 0 nodes updated\n"
     ]
    },
    {
     "name": "stderr",
     "output_type": "stream",
     "text": [
      "\n"
     ]
    }
   ],
   "source": [
    "# Fit the model using the estimator\n",
    "res = est.fit(method='momentum')\n",
    "# res = est.fit(method='networkeffect', max_iter=100, leave=True)\n",
    "\n",
    "# Default method is 'networkeffect', default max_iter is 100\n",
    "# Use 'leave=False' to omit the log information\n",
    "# you can also use 'fixedeffect', 'momentum' and 'complete' as the method\n",
    "# The method 'complete' is a test method and not recommended for real use\n",
    "# For more details refer to the documentation"
   ]
  },
  {
   "cell_type": "code",
   "execution_count": 9,
   "id": "3bbd6ec2",
   "metadata": {},
   "outputs": [
    {
     "name": "stdout",
     "output_type": "stream",
     "text": [
      "Group: [1 2 2 1 0 2 2 0 0 0 0 2 2 0 0 0 2 1 2 0 1 1 0 1 1 0 2 1 0 2 2 1 0 2 2 2 2\n",
      " 0 0 2 2 1 0 0 2 1 0 1 2 0 1 0 2 0 2 1 1 1 2 1 2 1 2 0 1 0 2 2 1 0 2 1 0 1\n",
      " 0 2 2 2 0 0 1 2 0 2 0 0 0 1 2 0 0 1 2 0 2 1 1 2 2 2]\n",
      "\u001b[1;31mGNAR Model Results:\u001b[0m\n",
      "N of Groups: 3    , Nodes: 100  , Time Periods: 300  , Covariates: 4    \n",
      "=========================== Group 0 =============================\n",
      "\u001b[1;34mNodes_n\u001b[0m: 35   , \u001b[1;34mObs_n\u001b[0m: 10465, \u001b[1;34mR2\u001b[0m: 0.9968    , \u001b[1;34mR2_adj\u001b[0m: 0.9968    \n",
      "\u001b[1;32mVar            Coef           Robust SE      t-stat         p-value        \u001b[0m\n",
      "beta_g0g0      0.3050         0.0036         83.8781        0.0000         \n",
      "beta_g0g1      -0.1018        0.0101         -10.0491       0.0000         \n",
      "beta_g0g2      -0.1974        0.0107         -18.4868       0.0000         \n",
      "v_g0           0.5990         0.0030         199.7346       0.0000         \n",
      "gamma_g0_0     0.5990         0.0030         199.7346       0.0000         \n",
      "gamma_g0_1     0.5722         0.0047         121.6448       0.0000         \n",
      "gamma_g0_2     -0.2622        0.0024         -108.4526      0.0000         \n",
      "gamma_g0_3     -0.6929        0.0052         -134.0734      0.0000         \n",
      "=========================== Group 1 =============================\n",
      "\u001b[1;34mNodes_n\u001b[0m: 27   , \u001b[1;34mObs_n\u001b[0m: 8073 , \u001b[1;34mR2\u001b[0m: 0.9917    , \u001b[1;34mR2_adj\u001b[0m: 0.9917    \n",
      "\u001b[1;32mVar            Coef           Robust SE      t-stat         p-value        \u001b[0m\n",
      "beta_g1g0      0.1456         0.0032         44.8678        0.0000         \n",
      "beta_g1g1      0.1358         0.0122         11.0926        0.0000         \n",
      "beta_g1g2      0.0792         0.0109         7.2478         0.0000         \n",
      "v_g1           0.2087         0.0065         32.2552        0.0000         \n",
      "gamma_g1_0     0.2087         0.0065         32.2552        0.0000         \n",
      "gamma_g1_1     0.1727         0.0035         49.4368        0.0000         \n",
      "gamma_g1_2     0.8747         0.0075         117.3097       0.0000         \n",
      "gamma_g1_3     -0.6485        0.0052         -124.8171      0.0000         \n",
      "=========================== Group 2 =============================\n",
      "\u001b[1;34mNodes_n\u001b[0m: 38   , \u001b[1;34mObs_n\u001b[0m: 11362, \u001b[1;34mR2\u001b[0m: 0.9961    , \u001b[1;34mR2_adj\u001b[0m: 0.9961    \n",
      "\u001b[1;32mVar            Coef           Robust SE      t-stat         p-value        \u001b[0m\n",
      "beta_g2g0      0.1014         0.0036         28.2394        0.0000         \n",
      "beta_g2g1      0.2010         0.0102         19.6331        0.0000         \n",
      "beta_g2g2      0.2865         0.0104         27.4617        0.0000         \n",
      "v_g2           0.3949         0.0062         63.4289        0.0000         \n",
      "gamma_g2_0     0.3949         0.0062         63.4289        0.0000         \n",
      "gamma_g2_1     -0.1560        0.0025         -62.9618       0.0000         \n",
      "gamma_g2_2     0.5050         0.0057         89.2473        0.0000         \n",
      "gamma_g2_3     0.9544         0.0099         95.9611        0.0000         \n"
     ]
    }
   ],
   "source": [
    "# Print the summary of the results\n",
    "print('Group:', res.group)\n",
    "res.summary()\n",
    "# You can also access the estimated parameters\n",
    "# print(\"Estimated beta:\", res.beta)\n",
    "# print(\"Estimated v:\", res.v)\n",
    "# etc. use dir(res) to see available attributes and methods"
   ]
  },
  {
   "cell_type": "markdown",
   "id": "e7204567",
   "metadata": {},
   "source": [
    "### *Section 2: Time-Varying GNAR Model*\n",
    "\n",
    "$$\n",
    "Y_{it} = \\sum_{j=1, j\\neq i}^N \\beta_{g_i g_j} w_{ij}(t) Y_{j,(t-1)} + \\nu_{g_i} Y_{i,(t-1)} + z_{it}^\\top \\zeta_{g_i} + \\varepsilon_{it}\n",
    "$$"
   ]
  },
  {
   "cell_type": "code",
   "execution_count": 10,
   "id": "82c839b7",
   "metadata": {},
   "outputs": [
    {
     "name": "stdout",
     "output_type": "stream",
     "text": [
      "Network generated successfully.\n",
      "CV generated successfully.\n",
      "All Parameters generated successfully.\n",
      "Coefficient constructed successfully.\n"
     ]
    },
    {
     "name": "stderr",
     "output_type": "stream",
     "text": [
      "100%|██████████| 299/299 [00:00<00:00, 53756.99it/s]\n"
     ]
    }
   ],
   "source": [
    "# generate time-varying data\n",
    "sim = simulator.GNAR_simulator(network_time_varying=True, CV_time_varying=True)\n",
    "# You can also just set one time-varying parameter\n",
    "beta = np.array([[0.15,0.2,-0.1],[0.1,0.3,-0.2],[0.15,0.1,0.3]]).T\n",
    "v = np.array([0.2,0.4,0.6])\n",
    "beta, v, gamma, group = sim.generate_para(beta=beta, v=v)\n",
    "Y, CV, network = sim.generate_data()"
   ]
  },
  {
   "cell_type": "code",
   "execution_count": 11,
   "id": "7dab4d0b",
   "metadata": {},
   "outputs": [
    {
     "name": "stderr",
     "output_type": "stream",
     "text": [
      "100%|██████████| 100/100 [00:01<00:00, 97.28it/s]"
     ]
    },
    {
     "name": "stdout",
     "output_type": "stream",
     "text": [
      "Epoch 0: 0 nodes updated\n",
      "\u001b[1;31mGNAR Model Results:\u001b[0m\n",
      "N of Groups: 3    , Nodes: 100  , Time Periods: 300  , Covariates: 4    \n",
      "=========================== Group 0 =============================\n",
      "\u001b[1;34mNodes_n\u001b[0m: 29   , \u001b[1;34mObs_n\u001b[0m: 8671 , \u001b[1;34mR2\u001b[0m: 0.9768    , \u001b[1;34mR2_adj\u001b[0m: 0.9768    \n",
      "\u001b[1;32mVar            Coef           Robust SE      t-stat         p-value        \u001b[0m\n",
      "beta_g0g0      0.3196         0.0195         16.3778        0.0000         \n",
      "beta_g0g1      0.0955         0.0051         18.6240        0.0000         \n",
      "beta_g0g2      0.1621         0.0269         6.0288         0.0000         \n",
      "v_g0           0.3987         0.0016         243.6878       0.0000         \n",
      "gamma_g0_0     0.3987         0.0016         243.6878       0.0000         \n",
      "gamma_g0_1     0.7872         0.0018         432.9666       0.0000         \n",
      "gamma_g0_2     -0.6403        0.0018         -347.1494      0.0000         \n",
      "gamma_g0_3     -0.1025        0.0019         -55.2243       0.0000         \n",
      "=========================== Group 1 =============================\n",
      "\u001b[1;34mNodes_n\u001b[0m: 34   , \u001b[1;34mObs_n\u001b[0m: 10166, \u001b[1;34mR2\u001b[0m: 0.9640    , \u001b[1;34mR2_adj\u001b[0m: 0.9640    \n",
      "\u001b[1;32mVar            Coef           Robust SE      t-stat         p-value        \u001b[0m\n",
      "beta_g1g0      -0.2170        0.0176         -12.3040       0.0000         \n",
      "beta_g1g1      0.3026         0.0061         49.5786        0.0000         \n",
      "beta_g1g2      -0.0936        0.0256         -3.6539        0.0003         \n",
      "v_g1           0.6014         0.0018         339.9237       0.0000         \n",
      "gamma_g1_0     0.6014         0.0018         339.9237       0.0000         \n",
      "gamma_g1_1     -0.3728        0.0017         -223.1997      0.0000         \n",
      "gamma_g1_2     -0.4989        0.0017         -298.3708      0.0000         \n",
      "gamma_g1_3     0.2459         0.0017         146.6548       0.0000         \n",
      "=========================== Group 2 =============================\n",
      "\u001b[1;34mNodes_n\u001b[0m: 37   , \u001b[1;34mObs_n\u001b[0m: 11063, \u001b[1;34mR2\u001b[0m: 0.9090    , \u001b[1;34mR2_adj\u001b[0m: 0.9090    \n",
      "\u001b[1;32mVar            Coef           Robust SE      t-stat         p-value        \u001b[0m\n",
      "beta_g2g0      0.1079         0.0165         6.5292         0.0000         \n",
      "beta_g2g1      0.1462         0.0045         32.6355        0.0000         \n",
      "beta_g2g2      0.1514         0.0241         6.2757         0.0000         \n",
      "v_g2           0.2017         0.0028         71.4350        0.0000         \n",
      "gamma_g2_0     0.2017         0.0028         71.4350        0.0000         \n",
      "gamma_g2_1     -0.2916        0.0016         -180.0010      0.0000         \n",
      "gamma_g2_2     0.3116         0.0016         195.3540       0.0000         \n",
      "gamma_g2_3     0.3136         0.0016         193.0531       0.0000         \n"
     ]
    },
    {
     "name": "stderr",
     "output_type": "stream",
     "text": [
      "\n"
     ]
    }
   ],
   "source": [
    "# fit the model using the estimator\n",
    "est = estimator.GNAR_estimator(Y, CV, network, G=3, seed=42)\n",
    "# use the time_varying parameter to fit the model\n",
    "res = est.fit(method='networkeffect', time_varying=True)\n",
    "res.summary()"
   ]
  },
  {
   "cell_type": "markdown",
   "id": "5ed5cc7b",
   "metadata": {},
   "source": [
    "### *Section 3: Normal Regression with Grouped Network Effect*\n",
    "\n",
    "$$\n",
    "Y_{it} = \\sum_{j=1, j\\neq i}^N \\beta_{g_i g_j} w_{ij}(t) X_{j,t} + \\nu_{g_i} Y_{i,t} + z_{it}^\\top \\zeta_{g_i} + \\varepsilon_{it}\n",
    "$$"
   ]
  },
  {
   "cell_type": "code",
   "execution_count": 12,
   "id": "7f6dc0fc",
   "metadata": {},
   "outputs": [
    {
     "name": "stdout",
     "output_type": "stream",
     "text": [
      "Network generated successfully.\n",
      "CV generated successfully.\n",
      "All Parameters generated successfully.\n",
      "Coefficient constructed successfully.\n",
      "X shape: (100, 300)\n"
     ]
    }
   ],
   "source": [
    "# generate Normal regression data\n",
    "sim = simulator.GNAR_simulator(CV_time_varying=True, autoregression=False)\n",
    "beta = np.array([[0.15,0.2,-0.1],[0.1,0.3,-0.2],[0.15,0.1,0.3]]).T\n",
    "v = np.array([0.2,0.4,0.6])\n",
    "beta, v, gamma, group = sim.generate_para(beta=beta, v=v)\n",
    "# Generate the data using the simulator, Note that X is also generated\n",
    "Y, X, CV, network = sim.generate_data()\n",
    "print('X shape:', X.shape)"
   ]
  },
  {
   "cell_type": "code",
   "execution_count": 13,
   "id": "481d1b73",
   "metadata": {},
   "outputs": [
    {
     "name": "stderr",
     "output_type": "stream",
     "text": [
      "100%|██████████| 100/100 [00:00<00:00, 100.68it/s]\n"
     ]
    },
    {
     "name": "stdout",
     "output_type": "stream",
     "text": [
      "Epoch 0: 32 nodes updated\n"
     ]
    },
    {
     "name": "stderr",
     "output_type": "stream",
     "text": [
      "100%|██████████| 100/100 [00:01<00:00, 99.84it/s]\n"
     ]
    },
    {
     "name": "stdout",
     "output_type": "stream",
     "text": [
      "Epoch 1: 2 nodes updated\n"
     ]
    },
    {
     "name": "stderr",
     "output_type": "stream",
     "text": [
      "100%|██████████| 100/100 [00:01<00:00, 99.79it/s]"
     ]
    },
    {
     "name": "stdout",
     "output_type": "stream",
     "text": [
      "Epoch 2: 0 nodes updated\n",
      "\u001b[1;31mGNAR Model Results:\u001b[0m\n",
      "N of Groups: 3    , Nodes: 100  , Time Periods: 300  , Covariates: 4    \n",
      "=========================== Group 0 =============================\n",
      "\u001b[1;34mNodes_n\u001b[0m: 33   , \u001b[1;34mObs_n\u001b[0m: 9900 , \u001b[1;34mR2\u001b[0m: 0.9667    , \u001b[1;34mR2_adj\u001b[0m: 0.9666    \n",
      "\u001b[1;32mVar            Coef           Robust SE      t-stat         p-value        \u001b[0m\n",
      "beta_g0g0      0.0595         0.1282         0.4642         0.6425         \n",
      "beta_g0g1      0.3255         0.1159         2.8083         0.0050         \n",
      "beta_g0g2      0.1380         0.1086         1.2709         0.2038         \n",
      "v_g0           0.4161         0.0173         24.0481        0.0000         \n",
      "gamma_g0_0     0.4161         0.0173         24.0481        0.0000         \n",
      "gamma_g0_1     -0.5916        0.0017         -342.8198      0.0000         \n",
      "gamma_g0_2     -0.5169        0.0017         -302.0161      0.0000         \n",
      "gamma_g0_3     -0.4890        0.0017         -286.5985      0.0000         \n",
      "=========================== Group 1 =============================\n",
      "\u001b[1;34mNodes_n\u001b[0m: 32   , \u001b[1;34mObs_n\u001b[0m: 9600 , \u001b[1;34mR2\u001b[0m: 0.9841    , \u001b[1;34mR2_adj\u001b[0m: 0.9841    \n",
      "\u001b[1;32mVar            Coef           Robust SE      t-stat         p-value        \u001b[0m\n",
      "beta_g1g0      0.2195         0.1223         1.7953         0.0726         \n",
      "beta_g1g1      0.1131         0.1248         0.9062         0.3648         \n",
      "beta_g1g2      0.1543         0.1022         1.5108         0.1309         \n",
      "v_g1           0.2055         0.0173         11.8678        0.0000         \n",
      "gamma_g1_0     0.2055         0.0173         11.8678        0.0000         \n",
      "gamma_g1_1     -0.4042        0.0017         -238.5915      0.0000         \n",
      "gamma_g1_2     -0.8098        0.0017         -465.9989      0.0000         \n",
      "gamma_g1_3     -0.7459        0.0017         -436.8119      0.0000         \n",
      "=========================== Group 2 =============================\n",
      "\u001b[1;34mNodes_n\u001b[0m: 35   , \u001b[1;34mObs_n\u001b[0m: 10500, \u001b[1;34mR2\u001b[0m: 0.9639    , \u001b[1;34mR2_adj\u001b[0m: 0.9639    \n",
      "\u001b[1;32mVar            Coef           Robust SE      t-stat         p-value        \u001b[0m\n",
      "beta_g2g0      -0.2878        0.1074         -2.6789        0.0074         \n",
      "beta_g2g1      -0.0510        0.1188         -0.4294        0.6676         \n",
      "beta_g2g2      0.3888         0.1145         3.3961         0.0007         \n",
      "v_g2           0.6003         0.0169         35.4995        0.0000         \n",
      "gamma_g2_0     0.6003         0.0169         35.4995        0.0000         \n",
      "gamma_g2_1     0.0189         0.0017         11.2199        0.0000         \n",
      "gamma_g2_2     -0.3821        0.0017         -225.4292      0.0000         \n",
      "gamma_g2_3     0.8129         0.0017         476.6112       0.0000         \n"
     ]
    },
    {
     "name": "stderr",
     "output_type": "stream",
     "text": [
      "\n"
     ]
    }
   ],
   "source": [
    "# fit the model using the estimator\n",
    "est = estimator.GNAR_estimator(Y, CV, network, G=3, seed=42, X=X)\n",
    "# If the X is provided, the normal regression model will be fitted automatically\n",
    "\n",
    "res = est.fit(method='momentum', time_varying=True)\n",
    "res.summary()"
   ]
  },
  {
   "cell_type": "markdown",
   "id": "87217214",
   "metadata": {},
   "source": [
    "### *Section 4: Use GIC to select the number of groups*\n",
    "\n",
    "$$\n",
    "\\mathbb{GIC}_{\\lambda_{NT}}(G) = \\log \\left\\{\\mathbf{Q}\\left(\\widehat{\\boldsymbol{\\theta}}^{(G)}, \\widehat{\\boldsymbol{\\beta}}^{(G)}, \\widehat{\\mathbf{G}}^{(G)}\\right) \\right\\} + \\lambda_{NT} G\n",
    "$$\n",
    "\n",
    "$$\n",
    "\\lambda_{NT} = \\dfrac{N^{1/10}T^{-1/2}}{2\\min\\{10,n_{90}\\}}\n",
    "$$"
   ]
  },
  {
   "cell_type": "code",
   "execution_count": 14,
   "id": "341a9051",
   "metadata": {},
   "outputs": [
    {
     "name": "stdout",
     "output_type": "stream",
     "text": [
      "Network generated successfully.\n",
      "CV generated successfully.\n",
      "All Parameters generated successfully.\n",
      "Coefficient constructed successfully.\n"
     ]
    },
    {
     "name": "stderr",
     "output_type": "stream",
     "text": [
      "100%|██████████| 199/199 [00:00<00:00, 77853.42it/s]\n"
     ]
    }
   ],
   "source": [
    "# generate data with G = 3\n",
    "sim = simulator.GNAR_simulator(N=100, T=200, G=3, seed=42, CV_time_varying=True, \n",
    "                            sigma=0.1)\n",
    "beta = np.array([[0.15,0.2,-0.1],[0.1,0.3,-0.2],[0.15,0.1,0.3]]).T\n",
    "v = np.array([0.2,0.4,0.6])\n",
    "beta, v, gamma, group = sim.generate_para(beta=beta, v=v)\n",
    "Y, CV, network = sim.generate_data()"
   ]
  },
  {
   "cell_type": "code",
   "execution_count": 15,
   "id": "8360b639",
   "metadata": {},
   "outputs": [
    {
     "name": "stderr",
     "output_type": "stream",
     "text": [
      "                                                 \r"
     ]
    },
    {
     "name": "stdout",
     "output_type": "stream",
     "text": [
      "G=1, GIC=-1.7875, loss=0.1591, lambda_NT=0.0510\n"
     ]
    },
    {
     "name": "stderr",
     "output_type": "stream",
     "text": [
      "                                                 \r"
     ]
    },
    {
     "name": "stdout",
     "output_type": "stream",
     "text": [
      "G=2, GIC=-2.7779, loss=0.0561, lambda_NT=0.0510\n"
     ]
    },
    {
     "name": "stderr",
     "output_type": "stream",
     "text": [
      "                                                 \r"
     ]
    },
    {
     "name": "stdout",
     "output_type": "stream",
     "text": [
      "G=3, GIC=-4.4471, loss=0.0101, lambda_NT=0.0510\n"
     ]
    },
    {
     "name": "stderr",
     "output_type": "stream",
     "text": [
      "                                                 \r"
     ]
    },
    {
     "name": "stdout",
     "output_type": "stream",
     "text": [
      "G=4, GIC=-4.3985, loss=0.0100, lambda_NT=0.0510\n"
     ]
    },
    {
     "name": "stderr",
     "output_type": "stream",
     "text": [
      "                                                \r"
     ]
    },
    {
     "name": "stdout",
     "output_type": "stream",
     "text": [
      "G=5, GIC=-4.3500, loss=0.0100, lambda_NT=0.0510\n"
     ]
    },
    {
     "name": "stderr",
     "output_type": "stream",
     "text": [
      "                                                \r"
     ]
    },
    {
     "name": "stdout",
     "output_type": "stream",
     "text": [
      "G=6, GIC=-4.3017, loss=0.0100, lambda_NT=0.0510\n"
     ]
    },
    {
     "name": "stderr",
     "output_type": "stream",
     "text": [
      "                                                \r"
     ]
    },
    {
     "name": "stdout",
     "output_type": "stream",
     "text": [
      "G=7, GIC=-4.2519, loss=0.0100, lambda_NT=0.0510\n"
     ]
    },
    {
     "name": "stderr",
     "output_type": "stream",
     "text": [
      "                                                "
     ]
    },
    {
     "name": "stdout",
     "output_type": "stream",
     "text": [
      "G=8, GIC=-4.2012, loss=0.0100, lambda_NT=0.0510\n",
      "Best G=3, GIC=-4.4471, back to G=3\n"
     ]
    },
    {
     "name": "stderr",
     "output_type": "stream",
     "text": [
      "\r"
     ]
    }
   ],
   "source": [
    "# If we don't know the number of groups, we can use GIC to select it\n",
    "est = estimator.GNAR_estimator(Y, CV, network, G=4, seed=42)\n",
    "res_GIC = est.fit_GIC(method='fixedeffect', time_varying=True)\n",
    "# You can also specify the  max_G and max_iter\n",
    "# res_GIC = est.fit_GIC(method='fixedeffect', max_G=8, max_iter=100, time_varying=True)"
   ]
  },
  {
   "cell_type": "code",
   "execution_count": 16,
   "id": "0a0e5822",
   "metadata": {},
   "outputs": [
    {
     "name": "stdout",
     "output_type": "stream",
     "text": [
      "\u001b[1;31m GIC: best G = 3\u001b[0m\n",
      "\u001b[1;31mGNAR Model Results:\u001b[0m\n",
      "N of Groups: 3    , Nodes: 100  , Time Periods: 200  , Covariates: 4    \n",
      "=========================== Group 0 =============================\n",
      "\u001b[1;34mNodes_n\u001b[0m: 31   , \u001b[1;34mObs_n\u001b[0m: 6169 , \u001b[1;34mR2\u001b[0m: 0.9456    , \u001b[1;34mR2_adj\u001b[0m: 0.9455    \n",
      "\u001b[1;32mVar            Coef           Robust SE      t-stat         p-value        \u001b[0m\n",
      "beta_g0g0      0.1623         0.0186         8.7421         0.0000         \n",
      "beta_g0g1      0.1512         0.0054         27.8072        0.0000         \n",
      "beta_g0g2      0.1216         0.0196         6.2124         0.0000         \n",
      "v_g0           0.2012         0.0029         69.3195        0.0000         \n",
      "gamma_g0_0     0.2012         0.0029         69.3195        0.0000         \n",
      "gamma_g0_1     0.9537         0.0043         220.6144       0.0000         \n",
      "gamma_g0_2     0.2342         0.0044         53.5348        0.0000         \n",
      "gamma_g0_3     0.9617         0.0043         222.9454       0.0000         \n",
      "=========================== Group 1 =============================\n",
      "\u001b[1;34mNodes_n\u001b[0m: 32   , \u001b[1;34mObs_n\u001b[0m: 6368 , \u001b[1;34mR2\u001b[0m: 0.9678    , \u001b[1;34mR2_adj\u001b[0m: 0.9678    \n",
      "\u001b[1;32mVar            Coef           Robust SE      t-stat         p-value        \u001b[0m\n",
      "beta_g1g0      -0.0989        0.0169         -5.8484        0.0000         \n",
      "beta_g1g1      0.2963         0.0073         40.4590        0.0000         \n",
      "beta_g1g2      -0.2240        0.0233         -9.6121        0.0000         \n",
      "v_g1           0.6027         0.0025         243.1320       0.0000         \n",
      "gamma_g1_0     0.6027         0.0025         243.1320       0.0000         \n",
      "gamma_g1_1     -0.3607        0.0043         -84.6437       0.0000         \n",
      "gamma_g1_2     -0.6579        0.0043         -151.9794      0.0000         \n",
      "gamma_g1_3     -0.4814        0.0044         -110.5836      0.0000         \n",
      "=========================== Group 2 =============================\n",
      "\u001b[1;34mNodes_n\u001b[0m: 37   , \u001b[1;34mObs_n\u001b[0m: 7363 , \u001b[1;34mR2\u001b[0m: 0.8837    , \u001b[1;34mR2_adj\u001b[0m: 0.8835    \n",
      "\u001b[1;32mVar            Coef           Robust SE      t-stat         p-value        \u001b[0m\n",
      "beta_g2g0      0.1867         0.0160         11.7018        0.0000         \n",
      "beta_g2g1      0.1000         0.0039         25.8258        0.0000         \n",
      "beta_g2g2      0.2675         0.0180         14.8571        0.0000         \n",
      "v_g2           0.4034         0.0041         98.8238        0.0000         \n",
      "gamma_g2_0     0.4034         0.0041         98.8238        0.0000         \n",
      "gamma_g2_1     0.4050         0.0041         99.8407        0.0000         \n",
      "gamma_g2_2     -0.5618        0.0040         -139.6558      0.0000         \n",
      "gamma_g2_3     -0.4761        0.0041         -116.4175      0.0000         \n"
     ]
    }
   ],
   "source": [
    "res_GIC.summary()\n",
    "# res_GIC.res is the dictionary of results for each G\n",
    "# res_GIC.GIC is the GIC values for each G\n",
    "# etc. Use dir(res_GIC) to see available attributes and methods"
   ]
  },
  {
   "cell_type": "code",
   "execution_count": 17,
   "id": "ccde802a",
   "metadata": {},
   "outputs": [
    {
     "data": {
      "image/png": "[encoded data removed]",
      "text/plain": [
       "<Figure size 1000x600 with 1 Axes>"
      ]
     },
     "metadata": {},
     "output_type": "display_data"
    }
   ],
   "source": [
    "# Plot the GIC results\n",
    "res_GIC.plot()\n",
    "# res_GIC.plot(figsize=(10, 6), dpi=100)"
   ]
  }
 ],
 "metadata": {
  "kernelspec": {
   "display_name": "base",
   "language": "python",
   "name": "python3"
  },
  "language_info": {
   "codemirror_mode": {
    "name": "ipython",
    "version": 3
   },
   "file_extension": ".py",
   "mimetype": "text/x-python",
   "name": "python",
   "nbconvert_exporter": "python",
   "pygments_lexer": "ipython3",
   "version": "3.13.5"
  }
 },
 "nbformat": 4,
 "nbformat_minor": 5
}
