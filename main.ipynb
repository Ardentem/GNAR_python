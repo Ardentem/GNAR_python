{
 "cells": [
  {
   "cell_type": "code",
   "execution_count": 5,
   "id": "795db8d6",
   "metadata": {},
   "outputs": [],
   "source": [
    "# Example usage of GNAR simulator and estimator\n",
    "import numpy as np\n",
    "import simulator\n",
    "import estimator"
   ]
  },
  {
   "cell_type": "code",
   "execution_count": 13,
   "id": "ac402b97",
   "metadata": {},
   "outputs": [],
   "source": [
    "#Step 1: Initialize the GNAR simulator with parameters  \n",
    "#N = 100: Number of nodes.   \n",
    "#T = 300: Number of time points    \n",
    "#G = 5: Number of groups    \n",
    "#seed = 42: Random seed for reproducibility    \n",
    "#network_time_varying = False: Whether the network is time-varying   \n",
    "#CV_time_varying = False: Whether the CV is time-varying  \n",
    "#CV_len = 4: Length of the CV vector   \n",
    "#omit_eye = True: Whether to omit the diagonal elements of the network  \n",
    "#network_dummy = True: Whether to use a dummy network (0 or 1)\n",
    "#sigma = 0.005: Standard deviation of the noise\n",
    "sim = simulator.GNAR_simulator(N=100, T=300, G=3, seed=42,network_time_varying=True, CV_time_varying=True, CV_len=4, omit_eye=True, network_dummy=True, sigma=0.1)"
   ]
  },
  {
   "cell_type": "code",
   "execution_count": null,
   "id": "b15b8f19",
   "metadata": {},
   "outputs": [],
   "source": [
    "# Step 2: Set parameters for the GNAR model (beta, v, gamma)\n",
    "beta = np.array([[0.15,0.2,-0.1],[0.1,0.3,-0.2],[0.15,0.1,0.3]]).T\n",
    "v = np.array([0.2,0.4,0.6])\n",
    "beta, v, gamma, group = sim.generate_para(beta=beta, v=v)\n",
    "# you can also use the random parameters by not passing any arguments to generate_para()"
   ]
  },
  {
   "cell_type": "code",
   "execution_count": 15,
   "id": "7bc9f5f9",
   "metadata": {},
   "outputs": [],
   "source": [
    "# Step 3: Generate the data using the simulator\n",
    "Y, CV, network = sim.generate_data()"
   ]
  },
  {
   "cell_type": "code",
   "execution_count": 16,
   "id": "163f5250",
   "metadata": {},
   "outputs": [],
   "source": [
    "# Step 4: Initialize the GNAR estimator with the generated data\n",
    "est = estimator.GNAR_estimator(Y, CV, network, G=3, seed=42)"
   ]
  },
  {
   "cell_type": "code",
   "execution_count": 17,
   "id": "1f9f7b1c",
   "metadata": {},
   "outputs": [
    {
     "name": "stderr",
     "output_type": "stream",
     "text": [
      "/Users/ardentem/Desktop/GNAR_python/estimator.py:115: RuntimeWarning: invalid value encountered in divide\n",
      "  beta_net[:,1+l] = np.mean(beta_, axis=0) / np.sum(c == l, axis=0)\n",
      "100%|██████████| 100/100 [00:03<00:00, 27.06it/s]"
     ]
    },
    {
     "name": "stdout",
     "output_type": "stream",
     "text": [
      "Epoch 0: 0 nodes updated\n",
      "Convergence reached\n"
     ]
    },
    {
     "name": "stderr",
     "output_type": "stream",
     "text": [
      "\n"
     ]
    }
   ],
   "source": [
    "# Step 5: Fit the model using the estimator\n",
    "res = est.fit(method='networkeffect', time_varying=True)"
   ]
  },
  {
   "cell_type": "code",
   "execution_count": 18,
   "id": "3bbd6ec2",
   "metadata": {},
   "outputs": [
    {
     "name": "stdout",
     "output_type": "stream",
     "text": [
      "\u001b[1;31mGNAR Model Results:\u001b[0m\n",
      "N of Groups: 3    , Nodes: 100  , Time Periods: 300  , Covariates: 4    \n",
      "=========================== Group 0 =============================\n",
      "\u001b[1;34mNodes_n\u001b[0m: 29   , \u001b[1;34mObs_n\u001b[0m: 8671 , \u001b[1;34mR2\u001b[0m: 0.9141    , \u001b[1;34mR2_adj\u001b[0m: 0.9140    \n",
      "\u001b[1;32mVar            Coef           Robust SE      t-stat         p-value        \u001b[0m\n",
      "beta_g0g0      0.3373         0.0380         8.8651         0.0000         \n",
      "beta_g0g1      0.0915         0.0101         9.0820         0.0000         \n",
      "beta_g0g2      0.1325         0.0498         2.6626         0.0078         \n",
      "v_g0           0.3984         0.0032         126.1844       0.0000         \n",
      "gamma_g0_0     0.3984         0.0032         126.1844       0.0000         \n",
      "gamma_g0_1     0.7852         0.0036         216.5868       0.0000         \n",
      "gamma_g0_2     -0.6406        0.0037         -174.0731      0.0000         \n",
      "gamma_g0_3     -0.1029        0.0037         -27.8033       0.0000         \n",
      "=========================== Group 1 =============================\n",
      "\u001b[1;34mNodes_n\u001b[0m: 34   , \u001b[1;34mObs_n\u001b[0m: 10166, \u001b[1;34mR2\u001b[0m: 0.8782    , \u001b[1;34mR2_adj\u001b[0m: 0.8782    \n",
      "\u001b[1;32mVar            Coef           Robust SE      t-stat         p-value        \u001b[0m\n",
      "beta_g1g0      -0.2396        0.0343         -6.9787        0.0000         \n",
      "beta_g1g1      0.3047         0.0117         26.0715        0.0000         \n",
      "beta_g1g2      -0.0908        0.0473         -1.9207        0.0548         \n",
      "v_g1           0.6030         0.0033         184.3891       0.0000         \n",
      "gamma_g1_0     0.6030         0.0033         184.3891       0.0000         \n",
      "gamma_g1_1     -0.3712        0.0033         -111.3110      0.0000         \n",
      "gamma_g1_2     -0.5006        0.0033         -149.7508      0.0000         \n",
      "gamma_g1_3     0.2471         0.0033         73.9219        0.0000         \n",
      "=========================== Group 2 =============================\n",
      "\u001b[1;34mNodes_n\u001b[0m: 37   , \u001b[1;34mObs_n\u001b[0m: 11063, \u001b[1;34mR2\u001b[0m: 0.7165    , \u001b[1;34mR2_adj\u001b[0m: 0.7163    \n",
      "\u001b[1;32mVar            Coef           Robust SE      t-stat         p-value        \u001b[0m\n",
      "beta_g2g0      0.1057         0.0322         3.2824         0.0010         \n",
      "beta_g2g1      0.1438         0.0088         16.3352        0.0000         \n",
      "beta_g2g2      0.1612         0.0448         3.6006         0.0003         \n",
      "v_g2           0.2028         0.0050         40.2549        0.0000         \n",
      "gamma_g2_0     0.2028         0.0050         40.2549        0.0000         \n",
      "gamma_g2_1     -0.2934        0.0032         -90.7986       0.0000         \n",
      "gamma_g2_2     0.3103         0.0032         97.6097        0.0000         \n",
      "gamma_g2_3     0.3121         0.0032         96.2417        0.0000         \n"
     ]
    }
   ],
   "source": [
    "# Step 6: Print the summary of the results\n",
    "res.summary()\n",
    "# You can also access the estimated parameters\n",
    "# print(\"Estimated beta:\", res.beta)\n",
    "# print(\"Estimated v:\", res.v)\n",
    "# etc. use dir(res) to see available attributes and methods"
   ]
  }
 ],
 "metadata": {
  "kernelspec": {
   "display_name": "base",
   "language": "python",
   "name": "python3"
  },
  "language_info": {
   "codemirror_mode": {
    "name": "ipython",
    "version": 3
   },
   "file_extension": ".py",
   "mimetype": "text/x-python",
   "name": "python",
   "nbconvert_exporter": "python",
   "pygments_lexer": "ipython3",
   "version": "3.13.5"
  }
 },
 "nbformat": 4,
 "nbformat_minor": 5
}
